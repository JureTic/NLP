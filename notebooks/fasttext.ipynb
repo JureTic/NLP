{
 "cells": [
  {
   "cell_type": "code",
   "execution_count": 2,
   "metadata": {},
   "outputs": [],
   "source": [
    "import fasttext\n",
    "import pandas as pd\n",
    "from scipy import spatial"
   ]
  },
  {
   "cell_type": "code",
   "execution_count": 3,
   "metadata": {},
   "outputs": [
    {
     "data": {
      "text/html": [
       "<div>\n",
       "<style scoped>\n",
       "    .dataframe tbody tr th:only-of-type {\n",
       "        vertical-align: middle;\n",
       "    }\n",
       "\n",
       "    .dataframe tbody tr th {\n",
       "        vertical-align: top;\n",
       "    }\n",
       "\n",
       "    .dataframe thead th {\n",
       "        text-align: right;\n",
       "    }\n",
       "</style>\n",
       "<table border=\"1\" class=\"dataframe\">\n",
       "  <thead>\n",
       "    <tr style=\"text-align: right;\">\n",
       "      <th></th>\n",
       "      <th>class</th>\n",
       "      <th>word</th>\n",
       "      <th>sentence1</th>\n",
       "      <th>sentence2</th>\n",
       "    </tr>\n",
       "  </thead>\n",
       "  <tbody>\n",
       "    <tr>\n",
       "      <th>0</th>\n",
       "      <td>NaN</td>\n",
       "      <td>kap</td>\n",
       "      <td>podaš komu na obodu ali ne. Sploh vas bo  kap...</td>\n",
       "      <td>Majico in  kapo  prejmejo:</td>\n",
       "    </tr>\n",
       "    <tr>\n",
       "      <th>1</th>\n",
       "      <td>NaN</td>\n",
       "      <td>kap</td>\n",
       "      <td>skorumpiran preprodajalec orožja? woe is us. ...</td>\n",
       "      <td>, da sem prvič in zadnjič nosil peterokrako z...</td>\n",
       "    </tr>\n",
       "    <tr>\n",
       "      <th>2</th>\n",
       "      <td>NaN</td>\n",
       "      <td>kap</td>\n",
       "      <td>izdelki njegovih rok v rojstni hiši. Umrl je ...</td>\n",
       "      <td>s seboj krizopraz. Nesrečnežu, ki ga je ohrom...</td>\n",
       "    </tr>\n",
       "    <tr>\n",
       "      <th>3</th>\n",
       "      <td>NaN</td>\n",
       "      <td>kap</td>\n",
       "      <td>odkrili, kako lahko zaradi njih nastane srčni...</td>\n",
       "      <td>, čeprav je bilo zunaj borih trideset stopinj...</td>\n",
       "    </tr>\n",
       "    <tr>\n",
       "      <th>4</th>\n",
       "      <td>NaN</td>\n",
       "      <td>kap</td>\n",
       "      <td>to sploh nima veze. Ženska je res carica.  Ka...</td>\n",
       "      <td>ne bi bilo v sobi. “Z dežja pod  kap , hm? In...</td>\n",
       "    </tr>\n",
       "    <tr>\n",
       "      <th>...</th>\n",
       "      <td>...</td>\n",
       "      <td>...</td>\n",
       "      <td>...</td>\n",
       "      <td>...</td>\n",
       "    </tr>\n",
       "    <tr>\n",
       "      <th>4995</th>\n",
       "      <td>NaN</td>\n",
       "      <td>vila</td>\n",
       "      <td>minut vožnje od Opatije, je na ekskluzivni lo...</td>\n",
       "      <td>. Dolge kolone avtomobilov, ki so se konec te...</td>\n",
       "    </tr>\n",
       "    <tr>\n",
       "      <th>4996</th>\n",
       "      <td>NaN</td>\n",
       "      <td>vila</td>\n",
       "      <td>2. Je pravljično lepa  vila  v resnici Darkov...</td>\n",
       "      <td>IZ KATEREGA JE MOLČE SNEŽILO, SE JE RAZPENJAL...</td>\n",
       "    </tr>\n",
       "    <tr>\n",
       "      <th>4997</th>\n",
       "      <td>NaN</td>\n",
       "      <td>vila</td>\n",
       "      <td>, za najem stavbe NPU, Hypo banko, gradnjo  v...</td>\n",
       "      <td>dokaj na hitro in brez možnosti podaljšanja p...</td>\n",
       "    </tr>\n",
       "    <tr>\n",
       "      <th>4998</th>\n",
       "      <td>NaN</td>\n",
       "      <td>vila</td>\n",
       "      <td>Vila  pod hollywoodskim znakom</td>\n",
       "      <td>gospa Delopst pa da je prišla pred nje tudi z...</td>\n",
       "    </tr>\n",
       "    <tr>\n",
       "      <th>4999</th>\n",
       "      <td>NaN</td>\n",
       "      <td>vila</td>\n",
       "      <td>, ki sta nastopala kot zlagana posušena nuna,...</td>\n",
       "      <td>Ljubljana - Rdeča nit sobotne seje skupščine ...</td>\n",
       "    </tr>\n",
       "  </tbody>\n",
       "</table>\n",
       "<p>5000 rows × 4 columns</p>\n",
       "</div>"
      ],
      "text/plain": [
       "      class  word                                          sentence1  \\\n",
       "0       NaN   kap   podaš komu na obodu ali ne. Sploh vas bo  kap...   \n",
       "1       NaN   kap   skorumpiran preprodajalec orožja? woe is us. ...   \n",
       "2       NaN   kap   izdelki njegovih rok v rojstni hiši. Umrl je ...   \n",
       "3       NaN   kap   odkrili, kako lahko zaradi njih nastane srčni...   \n",
       "4       NaN   kap   to sploh nima veze. Ženska je res carica.  Ka...   \n",
       "...     ...   ...                                                ...   \n",
       "4995    NaN  vila   minut vožnje od Opatije, je na ekskluzivni lo...   \n",
       "4996    NaN  vila   2. Je pravljično lepa  vila  v resnici Darkov...   \n",
       "4997    NaN  vila   , za najem stavbe NPU, Hypo banko, gradnjo  v...   \n",
       "4998    NaN  vila                    Vila  pod hollywoodskim znakom    \n",
       "4999    NaN  vila   , ki sta nastopala kot zlagana posušena nuna,...   \n",
       "\n",
       "                                              sentence2  \n",
       "0                           Majico in  kapo  prejmejo:   \n",
       "1      , da sem prvič in zadnjič nosil peterokrako z...  \n",
       "2      s seboj krizopraz. Nesrečnežu, ki ga je ohrom...  \n",
       "3      , čeprav je bilo zunaj borih trideset stopinj...  \n",
       "4      ne bi bilo v sobi. “Z dežja pod  kap , hm? In...  \n",
       "...                                                 ...  \n",
       "4995   . Dolge kolone avtomobilov, ki so se konec te...  \n",
       "4996   IZ KATEREGA JE MOLČE SNEŽILO, SE JE RAZPENJAL...  \n",
       "4997   dokaj na hitro in brez možnosti podaljšanja p...  \n",
       "4998   gospa Delopst pa da je prišla pred nje tudi z...  \n",
       "4999   Ljubljana - Rdeča nit sobotne seje skupščine ...  \n",
       "\n",
       "[5000 rows x 4 columns]"
      ]
     },
     "execution_count": 3,
     "metadata": {},
     "output_type": "execute_result"
    }
   ],
   "source": [
    "df = pd.read_csv(\"pre_ann.csv\", index_col=0)\n",
    "df"
   ]
  },
  {
   "cell_type": "code",
   "execution_count": 4,
   "metadata": {},
   "outputs": [
    {
     "name": "stderr",
     "output_type": "stream",
     "text": [
      "Warning : `load_model` does not return WordVectorModel or SupervisedModel any more, but a `FastText` object which is very similar.\n"
     ]
    }
   ],
   "source": [
    "model = fasttext.load_model(\"embed.sl-token.ft.sg.bin\")"
   ]
  },
  {
   "cell_type": "code",
   "execution_count": 5,
   "metadata": {},
   "outputs": [
    {
     "data": {
      "text/plain": [
       "0.18323135375976562"
      ]
     },
     "execution_count": 5,
     "metadata": {},
     "output_type": "execute_result"
    }
   ],
   "source": [
    "one = model.get_sentence_vector(df.sentence1[649])\n",
    "two = model.get_sentence_vector(df.sentence2[649])\n",
    "spatial.distance.cosine(one, two)"
   ]
  },
  {
   "cell_type": "code",
   "execution_count": 6,
   "metadata": {},
   "outputs": [
    {
     "name": "stdout",
     "output_type": "stream",
     "text": [
      "5000\n"
     ]
    },
    {
     "data": {
      "text/html": [
       "<div>\n",
       "<style scoped>\n",
       "    .dataframe tbody tr th:only-of-type {\n",
       "        vertical-align: middle;\n",
       "    }\n",
       "\n",
       "    .dataframe tbody tr th {\n",
       "        vertical-align: top;\n",
       "    }\n",
       "\n",
       "    .dataframe thead th {\n",
       "        text-align: right;\n",
       "    }\n",
       "</style>\n",
       "<table border=\"1\" class=\"dataframe\">\n",
       "  <thead>\n",
       "    <tr style=\"text-align: right;\">\n",
       "      <th></th>\n",
       "      <th>class</th>\n",
       "      <th>word</th>\n",
       "      <th>sentence1</th>\n",
       "      <th>sentence2</th>\n",
       "    </tr>\n",
       "  </thead>\n",
       "  <tbody>\n",
       "    <tr>\n",
       "      <th>0</th>\n",
       "      <td>0</td>\n",
       "      <td>kap</td>\n",
       "      <td>podaš komu na obodu ali ne. Sploh vas bo  kap...</td>\n",
       "      <td>Majico in  kapo  prejmejo:</td>\n",
       "    </tr>\n",
       "    <tr>\n",
       "      <th>1</th>\n",
       "      <td>1</td>\n",
       "      <td>kap</td>\n",
       "      <td>skorumpiran preprodajalec orožja? woe is us. ...</td>\n",
       "      <td>, da sem prvič in zadnjič nosil peterokrako z...</td>\n",
       "    </tr>\n",
       "    <tr>\n",
       "      <th>2</th>\n",
       "      <td>1</td>\n",
       "      <td>kap</td>\n",
       "      <td>izdelki njegovih rok v rojstni hiši. Umrl je ...</td>\n",
       "      <td>s seboj krizopraz. Nesrečnežu, ki ga je ohrom...</td>\n",
       "    </tr>\n",
       "    <tr>\n",
       "      <th>3</th>\n",
       "      <td>1</td>\n",
       "      <td>kap</td>\n",
       "      <td>odkrili, kako lahko zaradi njih nastane srčni...</td>\n",
       "      <td>, čeprav je bilo zunaj borih trideset stopinj...</td>\n",
       "    </tr>\n",
       "    <tr>\n",
       "      <th>4</th>\n",
       "      <td>1</td>\n",
       "      <td>kap</td>\n",
       "      <td>to sploh nima veze. Ženska je res carica.  Ka...</td>\n",
       "      <td>ne bi bilo v sobi. “Z dežja pod  kap , hm? In...</td>\n",
       "    </tr>\n",
       "    <tr>\n",
       "      <th>...</th>\n",
       "      <td>...</td>\n",
       "      <td>...</td>\n",
       "      <td>...</td>\n",
       "      <td>...</td>\n",
       "    </tr>\n",
       "    <tr>\n",
       "      <th>4995</th>\n",
       "      <td>0</td>\n",
       "      <td>vila</td>\n",
       "      <td>minut vožnje od Opatije, je na ekskluzivni lo...</td>\n",
       "      <td>. Dolge kolone avtomobilov, ki so se konec te...</td>\n",
       "    </tr>\n",
       "    <tr>\n",
       "      <th>4996</th>\n",
       "      <td>0</td>\n",
       "      <td>vila</td>\n",
       "      <td>2. Je pravljično lepa  vila  v resnici Darkov...</td>\n",
       "      <td>IZ KATEREGA JE MOLČE SNEŽILO, SE JE RAZPENJAL...</td>\n",
       "    </tr>\n",
       "    <tr>\n",
       "      <th>4997</th>\n",
       "      <td>1</td>\n",
       "      <td>vila</td>\n",
       "      <td>, za najem stavbe NPU, Hypo banko, gradnjo  v...</td>\n",
       "      <td>dokaj na hitro in brez možnosti podaljšanja p...</td>\n",
       "    </tr>\n",
       "    <tr>\n",
       "      <th>4998</th>\n",
       "      <td>0</td>\n",
       "      <td>vila</td>\n",
       "      <td>Vila  pod hollywoodskim znakom</td>\n",
       "      <td>gospa Delopst pa da je prišla pred nje tudi z...</td>\n",
       "    </tr>\n",
       "    <tr>\n",
       "      <th>4999</th>\n",
       "      <td>1</td>\n",
       "      <td>vila</td>\n",
       "      <td>, ki sta nastopala kot zlagana posušena nuna,...</td>\n",
       "      <td>Ljubljana - Rdeča nit sobotne seje skupščine ...</td>\n",
       "    </tr>\n",
       "  </tbody>\n",
       "</table>\n",
       "<p>5000 rows × 4 columns</p>\n",
       "</div>"
      ],
      "text/plain": [
       "      class  word                                          sentence1  \\\n",
       "0         0   kap   podaš komu na obodu ali ne. Sploh vas bo  kap...   \n",
       "1         1   kap   skorumpiran preprodajalec orožja? woe is us. ...   \n",
       "2         1   kap   izdelki njegovih rok v rojstni hiši. Umrl je ...   \n",
       "3         1   kap   odkrili, kako lahko zaradi njih nastane srčni...   \n",
       "4         1   kap   to sploh nima veze. Ženska je res carica.  Ka...   \n",
       "...     ...   ...                                                ...   \n",
       "4995      0  vila   minut vožnje od Opatije, je na ekskluzivni lo...   \n",
       "4996      0  vila   2. Je pravljično lepa  vila  v resnici Darkov...   \n",
       "4997      1  vila   , za najem stavbe NPU, Hypo banko, gradnjo  v...   \n",
       "4998      0  vila                    Vila  pod hollywoodskim znakom    \n",
       "4999      1  vila   , ki sta nastopala kot zlagana posušena nuna,...   \n",
       "\n",
       "                                              sentence2  \n",
       "0                           Majico in  kapo  prejmejo:   \n",
       "1      , da sem prvič in zadnjič nosil peterokrako z...  \n",
       "2      s seboj krizopraz. Nesrečnežu, ki ga je ohrom...  \n",
       "3      , čeprav je bilo zunaj borih trideset stopinj...  \n",
       "4      ne bi bilo v sobi. “Z dežja pod  kap , hm? In...  \n",
       "...                                                 ...  \n",
       "4995   . Dolge kolone avtomobilov, ki so se konec te...  \n",
       "4996   IZ KATEREGA JE MOLČE SNEŽILO, SE JE RAZPENJAL...  \n",
       "4997   dokaj na hitro in brez možnosti podaljšanja p...  \n",
       "4998   gospa Delopst pa da je prišla pred nje tudi z...  \n",
       "4999   Ljubljana - Rdeča nit sobotne seje skupščine ...  \n",
       "\n",
       "[5000 rows x 4 columns]"
      ]
     },
     "execution_count": 6,
     "metadata": {},
     "output_type": "execute_result"
    }
   ],
   "source": [
    "cls = []\n",
    "\n",
    "for i in range(5000):\n",
    "    one = model.get_sentence_vector(df.sentence1[i])\n",
    "    two = model.get_sentence_vector(df.sentence2[i])\n",
    "    res = spatial.distance.cosine(one, two)\n",
    "    if res < 0.24:\n",
    "        cls.append(1)\n",
    "    else:\n",
    "        cls.append(0)\n",
    "print(len(cls))\n",
    "df[\"class\"] = cls\n",
    "df"
   ]
  },
  {
   "cell_type": "code",
   "execution_count": 7,
   "metadata": {},
   "outputs": [
    {
     "data": {
      "text/plain": [
       "1    3336\n",
       "0    1664\n",
       "Name: class, dtype: int64"
      ]
     },
     "execution_count": 7,
     "metadata": {},
     "output_type": "execute_result"
    }
   ],
   "source": [
    "df[\"class\"].value_counts()"
   ]
  },
  {
   "cell_type": "code",
   "execution_count": 8,
   "metadata": {},
   "outputs": [],
   "source": [
    "df.to_csv(\"dataset_fasttext.csv\")"
   ]
  }
 ],
 "metadata": {
  "interpreter": {
   "hash": "97cc609b13305c559618ec78a438abc56230b9381f827f22d070313b9a1f3777"
  },
  "kernelspec": {
   "display_name": "Python 3.10.4 64-bit",
   "language": "python",
   "name": "python3"
  },
  "language_info": {
   "codemirror_mode": {
    "name": "ipython",
    "version": 3
   },
   "file_extension": ".py",
   "mimetype": "text/x-python",
   "name": "python",
   "nbconvert_exporter": "python",
   "pygments_lexer": "ipython3",
   "version": "3.10.4"
  },
  "orig_nbformat": 4
 },
 "nbformat": 4,
 "nbformat_minor": 2
}

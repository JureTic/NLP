{
 "cells": [
  {
   "cell_type": "code",
   "execution_count": 1,
   "metadata": {},
   "outputs": [],
   "source": [
    "import pandas as pd\n",
    "import scipy\n",
    "import numpy as np\n",
    "from scipy import spatial\n",
    "import matplotlib\n",
    "import matplotlib.pyplot as plt"
   ]
  },
  {
   "cell_type": "code",
   "execution_count": 2,
   "metadata": {},
   "outputs": [],
   "source": [
    "df = pd.read_csv(\"all_manually_annotated.csv\", index_col=0)"
   ]
  },
  {
   "cell_type": "code",
   "execution_count": 3,
   "metadata": {},
   "outputs": [],
   "source": [
    "import string\n",
    "\n",
    "def remove_punc(text):\n",
    "    return \"\".join([char for char in text if char not in string.punctuation])\n",
    "\n",
    "df.sentence1 = df.sentence1.apply(lambda x: x.lower())\n",
    "df.sentence1 = df.sentence1.apply(lambda x: \" \".join(remove_punc(x).split()))\n",
    "df.sentence2 = df.sentence2.apply(lambda x: x.lower())\n",
    "df.sentence2 = df.sentence2.apply(lambda x: \" \".join(remove_punc(x).split()))"
   ]
  },
  {
   "cell_type": "code",
   "execution_count": 4,
   "metadata": {},
   "outputs": [
    {
     "data": {
      "text/html": [
       "<div>\n",
       "<style scoped>\n",
       "    .dataframe tbody tr th:only-of-type {\n",
       "        vertical-align: middle;\n",
       "    }\n",
       "\n",
       "    .dataframe tbody tr th {\n",
       "        vertical-align: top;\n",
       "    }\n",
       "\n",
       "    .dataframe thead th {\n",
       "        text-align: right;\n",
       "    }\n",
       "</style>\n",
       "<table border=\"1\" class=\"dataframe\">\n",
       "  <thead>\n",
       "    <tr style=\"text-align: right;\">\n",
       "      <th></th>\n",
       "      <th>class</th>\n",
       "      <th>word</th>\n",
       "      <th>sentence1</th>\n",
       "      <th>sentence2</th>\n",
       "    </tr>\n",
       "  </thead>\n",
       "  <tbody>\n",
       "    <tr>\n",
       "      <th>0</th>\n",
       "      <td>0</td>\n",
       "      <td>kap</td>\n",
       "      <td>prostituiranjem občasno je počel tudi to me je...</td>\n",
       "      <td>kapa gre v pariz</td>\n",
       "    </tr>\n",
       "    <tr>\n",
       "      <th>2</th>\n",
       "      <td>0</td>\n",
       "      <td>kap</td>\n",
       "      <td>odgovor ne sme vas presenetiti in vas zadeti u...</td>\n",
       "      <td>je avgusta 2009 med potapljanjem na hrvaškem z...</td>\n",
       "    </tr>\n",
       "    <tr>\n",
       "      <th>3</th>\n",
       "      <td>0</td>\n",
       "      <td>kap</td>\n",
       "      <td>piva ki naj bi ga spil pahor skoraj kap</td>\n",
       "      <td>od jeze si je strojevodja snel z glave železni...</td>\n",
       "    </tr>\n",
       "    <tr>\n",
       "      <th>4</th>\n",
       "      <td>0</td>\n",
       "      <td>kap</td>\n",
       "      <td>smučarske čevlje hlače bundo rokavice in vtakn...</td>\n",
       "      <td>imk ishemična možganska kap ali infarkt</td>\n",
       "    </tr>\n",
       "    <tr>\n",
       "      <th>5</th>\n",
       "      <td>0</td>\n",
       "      <td>kap</td>\n",
       "      <td>moškega nižje postave v temno oblečenega s tem...</td>\n",
       "      <td>reakcijo na osvetlitev težko je oceniti ali je...</td>\n",
       "    </tr>\n",
       "    <tr>\n",
       "      <th>...</th>\n",
       "      <td>...</td>\n",
       "      <td>...</td>\n",
       "      <td>...</td>\n",
       "      <td>...</td>\n",
       "    </tr>\n",
       "    <tr>\n",
       "      <th>546</th>\n",
       "      <td>0</td>\n",
       "      <td>vila</td>\n",
       "      <td>ena najponosnejših stavb ki še sanja o pretekl...</td>\n",
       "      <td>vile pripovedujejo o odgovornosti avtor besedila</td>\n",
       "    </tr>\n",
       "    <tr>\n",
       "      <th>552</th>\n",
       "      <td>0</td>\n",
       "      <td>vila</td>\n",
       "      <td>na odseku kozina–ankaran kjer so novoodkrite o...</td>\n",
       "      <td>ki je trdil da je tudi sam že videl vile se je...</td>\n",
       "    </tr>\n",
       "    <tr>\n",
       "      <th>554</th>\n",
       "      <td>0</td>\n",
       "      <td>vila</td>\n",
       "      <td>vendar steza pod strmo zaporo še zadnjič zavij...</td>\n",
       "      <td>starejše deklice se že rade oblečejo v princes...</td>\n",
       "    </tr>\n",
       "    <tr>\n",
       "      <th>556</th>\n",
       "      <td>0</td>\n",
       "      <td>vila</td>\n",
       "      <td>tisto grozno jutranje vstajanje … in so se v v...</td>\n",
       "      <td>je dobrodelno društvo ki so ga ustanovile štir...</td>\n",
       "    </tr>\n",
       "    <tr>\n",
       "      <th>563</th>\n",
       "      <td>0</td>\n",
       "      <td>vila</td>\n",
       "      <td>notarjeva vila je v register kulturne dediščin...</td>\n",
       "      <td>rdečkasto lasuljo z rožički in v roke prijele ...</td>\n",
       "    </tr>\n",
       "  </tbody>\n",
       "</table>\n",
       "<p>329 rows × 4 columns</p>\n",
       "</div>"
      ],
      "text/plain": [
       "     class  word                                          sentence1  \\\n",
       "0        0   kap  prostituiranjem občasno je počel tudi to me je...   \n",
       "2        0   kap  odgovor ne sme vas presenetiti in vas zadeti u...   \n",
       "3        0   kap            piva ki naj bi ga spil pahor skoraj kap   \n",
       "4        0   kap  smučarske čevlje hlače bundo rokavice in vtakn...   \n",
       "5        0   kap  moškega nižje postave v temno oblečenega s tem...   \n",
       "..     ...   ...                                                ...   \n",
       "546      0  vila  ena najponosnejših stavb ki še sanja o pretekl...   \n",
       "552      0  vila  na odseku kozina–ankaran kjer so novoodkrite o...   \n",
       "554      0  vila  vendar steza pod strmo zaporo še zadnjič zavij...   \n",
       "556      0  vila  tisto grozno jutranje vstajanje … in so se v v...   \n",
       "563      0  vila  notarjeva vila je v register kulturne dediščin...   \n",
       "\n",
       "                                             sentence2  \n",
       "0                                     kapa gre v pariz  \n",
       "2    je avgusta 2009 med potapljanjem na hrvaškem z...  \n",
       "3    od jeze si je strojevodja snel z glave železni...  \n",
       "4              imk ishemična možganska kap ali infarkt  \n",
       "5    reakcijo na osvetlitev težko je oceniti ali je...  \n",
       "..                                                 ...  \n",
       "546   vile pripovedujejo o odgovornosti avtor besedila  \n",
       "552  ki je trdil da je tudi sam že videl vile se je...  \n",
       "554  starejše deklice se že rade oblečejo v princes...  \n",
       "556  je dobrodelno društvo ki so ga ustanovile štir...  \n",
       "563  rdečkasto lasuljo z rožički in v roke prijele ...  \n",
       "\n",
       "[329 rows x 4 columns]"
      ]
     },
     "execution_count": 4,
     "metadata": {},
     "output_type": "execute_result"
    }
   ],
   "source": [
    "df_pos = df.loc[df[\"class\"] == 1]\n",
    "df_neg = df.loc[df[\"class\"] == 0]\n",
    "df_neg"
   ]
  },
  {
   "cell_type": "code",
   "execution_count": 5,
   "metadata": {},
   "outputs": [],
   "source": [
    "from gensim.models import KeyedVectors\n",
    "\n",
    "model = KeyedVectors.load_word2vec_format(\"w2v/model.bin\", binary=True)"
   ]
  },
  {
   "cell_type": "code",
   "execution_count": 6,
   "metadata": {},
   "outputs": [],
   "source": [
    "neg_diff = []\n",
    "pos_diff = []\n",
    "\n",
    "for i in df_pos.index:\n",
    "    p1 = df_pos.sentence1[i].split(\" \")\n",
    "    p2 = df_pos.sentence2[i].split(\" \")\n",
    "    one = []\n",
    "    two = []\n",
    "    for i in range(len(p1)):\n",
    "        try:\n",
    "            one.append(model[p1[i]])\n",
    "        except KeyError:\n",
    "            pass\n",
    "    for i in range(len(p2)):\n",
    "        try:\n",
    "            two.append(model[p2[i]])\n",
    "        except KeyError:\n",
    "            pass\n",
    "\n",
    "    t1 = np.mean(one, axis=0)\n",
    "    t2 = np.mean(two, axis=0)\n",
    "    pos_diff.append(spatial.distance.cosine(t1, t2))\n",
    "\n",
    "for i in df_neg.index:\n",
    "    p1 = df_neg.sentence1[i].split(\" \")\n",
    "    p2 = df_neg.sentence2[i].split(\" \")\n",
    "    one = []\n",
    "    two = []\n",
    "    for i in range(len(p1)):\n",
    "        try:\n",
    "            one.append(model[p1[i]])\n",
    "        except KeyError:\n",
    "            pass\n",
    "    for i in range(len(p2)):\n",
    "        try:\n",
    "            two.append(model[p2[i]])\n",
    "        except KeyError:\n",
    "            pass\n",
    "\n",
    "    t1 = np.mean(one, axis=0)\n",
    "    t2 = np.mean(two, axis=0)\n",
    "    neg_diff.append(spatial.distance.cosine(t1, t2))"
   ]
  },
  {
   "cell_type": "code",
   "execution_count": 15,
   "metadata": {},
   "outputs": [
    {
     "name": "stdout",
     "output_type": "stream",
     "text": [
      "0.2358053836416691\n",
      "0.5756661891937256\n",
      "0.0844888687133789\n",
      "\n",
      "0.2827901497800299\n",
      "0.7266395092010498\n",
      "0.10914385318756104\n"
     ]
    }
   ],
   "source": [
    "y = np.asarray([neg_diff, pos_diff], dtype=np.float32)\n",
    "print(np.mean(pos_diff, axis=0))\n",
    "print(max(pos_diff))\n",
    "print(min(pos_diff))\n",
    "print()\n",
    "print(np.mean(neg_diff, axis=0))\n",
    "print(max(neg_diff))\n",
    "print(min(neg_diff))"
   ]
  },
  {
   "cell_type": "code",
   "execution_count": 12,
   "metadata": {},
   "outputs": [
    {
     "ename": "ValueError",
     "evalue": "setting an array element with a sequence. The requested array has an inhomogeneous shape after 1 dimensions. The detected shape was (2,) + inhomogeneous part.",
     "output_type": "error",
     "traceback": [
      "\u001b[0;31m---------------------------------------------------------------------------\u001b[0m",
      "\u001b[0;31mValueError\u001b[0m                                Traceback (most recent call last)",
      "\u001b[1;32m/mnt/d/Files/FRI/MAG/NLP/NLP_new/threshold.ipynb Cell 7'\u001b[0m in \u001b[0;36m<cell line: 2>\u001b[0;34m()\u001b[0m\n\u001b[1;32m      <a href='vscode-notebook-cell://wsl%2Bubuntu/mnt/d/Files/FRI/MAG/NLP/NLP_new/threshold.ipynb#ch0000007vscode-remote?line=0'>1</a>\u001b[0m plt\u001b[39m.\u001b[39mboxplot([neg_diff, pos_diff])\n\u001b[0;32m----> <a href='vscode-notebook-cell://wsl%2Bubuntu/mnt/d/Files/FRI/MAG/NLP/NLP_new/threshold.ipynb#ch0000007vscode-remote?line=1'>2</a>\u001b[0m y \u001b[39m=\u001b[39m np\u001b[39m.\u001b[39;49masarray([neg_diff, pos_diff], dtype\u001b[39m=\u001b[39;49mnp\u001b[39m.\u001b[39;49mfloat32)\n\u001b[1;32m      <a href='vscode-notebook-cell://wsl%2Bubuntu/mnt/d/Files/FRI/MAG/NLP/NLP_new/threshold.ipynb#ch0000007vscode-remote?line=2'>3</a>\u001b[0m plt\u001b[39m.\u001b[39merrorbar(\u001b[39m2\u001b[39m, np\u001b[39m.\u001b[39mmean(y, axis\u001b[39m=\u001b[39m\u001b[39m0\u001b[39m), yerr\u001b[39m=\u001b[39mnp\u001b[39m.\u001b[39mstd(y, axis\u001b[39m=\u001b[39m\u001b[39m0\u001b[39m))\n\u001b[1;32m      <a href='vscode-notebook-cell://wsl%2Bubuntu/mnt/d/Files/FRI/MAG/NLP/NLP_new/threshold.ipynb#ch0000007vscode-remote?line=3'>4</a>\u001b[0m plt\u001b[39m.\u001b[39mshow()\n",
      "\u001b[0;31mValueError\u001b[0m: setting an array element with a sequence. The requested array has an inhomogeneous shape after 1 dimensions. The detected shape was (2,) + inhomogeneous part."
     ]
    },
    {
     "data": {
      "image/png": "[encoded data removed]",
      "text/plain": [
       "<Figure size 432x288 with 1 Axes>"
      ]
     },
     "metadata": {
      "needs_background": "light"
     },
     "output_type": "display_data"
    }
   ],
   "source": [
    "plt.boxplot([neg_diff, pos_diff])\n",
    "plt.errorbar(2, np.mean(y, axis=0), yerr=np.std(y, axis=0))\n",
    "plt.show()"
   ]
  },
  {
   "cell_type": "code",
   "execution_count": null,
   "metadata": {},
   "outputs": [],
   "source": []
  }
 ],
 "metadata": {
  "interpreter": {
   "hash": "97cc609b13305c559618ec78a438abc56230b9381f827f22d070313b9a1f3777"
  },
  "kernelspec": {
   "display_name": "Python 3.10.4 64-bit",
   "language": "python",
   "name": "python3"
  },
  "language_info": {
   "codemirror_mode": {
    "name": "ipython",
    "version": 3
   },
   "file_extension": ".py",
   "mimetype": "text/x-python",
   "name": "python",
   "nbconvert_exporter": "python",
   "pygments_lexer": "ipython3",
   "version": "3.10.4"
  },
  "orig_nbformat": 4
 },
 "nbformat": 4,
 "nbformat_minor": 2
}

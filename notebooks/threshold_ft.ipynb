{
 "cells": [
  {
   "cell_type": "code",
   "execution_count": 1,
   "metadata": {},
   "outputs": [],
   "source": [
    "import fasttext\n",
    "import pandas as pd\n",
    "from scipy import spatial\n",
    "import numpy as np\n",
    "import matplotlib.pyplot as plt"
   ]
  },
  {
   "cell_type": "code",
   "execution_count": 2,
   "metadata": {},
   "outputs": [
    {
     "data": {
      "text/html": [
       "<div>\n",
       "<style scoped>\n",
       "    .dataframe tbody tr th:only-of-type {\n",
       "        vertical-align: middle;\n",
       "    }\n",
       "\n",
       "    .dataframe tbody tr th {\n",
       "        vertical-align: top;\n",
       "    }\n",
       "\n",
       "    .dataframe thead th {\n",
       "        text-align: right;\n",
       "    }\n",
       "</style>\n",
       "<table border=\"1\" class=\"dataframe\">\n",
       "  <thead>\n",
       "    <tr style=\"text-align: right;\">\n",
       "      <th></th>\n",
       "      <th>class</th>\n",
       "      <th>word</th>\n",
       "      <th>sentence1</th>\n",
       "      <th>sentence2</th>\n",
       "    </tr>\n",
       "  </thead>\n",
       "  <tbody>\n",
       "    <tr>\n",
       "      <th>0</th>\n",
       "      <td>0</td>\n",
       "      <td>kap</td>\n",
       "      <td>prostituiranjem občasno je počel tudi to , me...</td>\n",
       "      <td>Kapa  gre v Pariz</td>\n",
       "    </tr>\n",
       "    <tr>\n",
       "      <th>1</th>\n",
       "      <td>1</td>\n",
       "      <td>kap</td>\n",
       "      <td>ko pa zdajle ta video vidim me je pa skor  ka...</td>\n",
       "      <td>čingola da te rasvetlim bila je možganska  ka...</td>\n",
       "    </tr>\n",
       "    <tr>\n",
       "      <th>2</th>\n",
       "      <td>0</td>\n",
       "      <td>kap</td>\n",
       "      <td>odgovor, ne sme vas presenetiti in vas zadeti...</td>\n",
       "      <td>je avgusta 2009 med potapljanjem na hrvaškem ...</td>\n",
       "    </tr>\n",
       "    <tr>\n",
       "      <th>3</th>\n",
       "      <td>0</td>\n",
       "      <td>kap</td>\n",
       "      <td>piva, ki naj bi ga spil Pahor, skoraj  kap .</td>\n",
       "      <td>Od jeze si je strojevodja snel z glave železn...</td>\n",
       "    </tr>\n",
       "    <tr>\n",
       "      <th>4</th>\n",
       "      <td>0</td>\n",
       "      <td>kap</td>\n",
       "      <td>smučarske čevlje, hlače, bundo, rokavice in v...</td>\n",
       "      <td>IMK ishemična možganska  kap  ali infarkt</td>\n",
       "    </tr>\n",
       "    <tr>\n",
       "      <th>...</th>\n",
       "      <td>...</td>\n",
       "      <td>...</td>\n",
       "      <td>...</td>\n",
       "      <td>...</td>\n",
       "    </tr>\n",
       "    <tr>\n",
       "      <th>559</th>\n",
       "      <td>1</td>\n",
       "      <td>vila</td>\n",
       "      <td>Namesto penziona Oliva pride  Vila  Čeranič***</td>\n",
       "      <td>...] obširen borov gozd, posejan z  vilami , ...</td>\n",
       "    </tr>\n",
       "    <tr>\n",
       "      <th>560</th>\n",
       "      <td>1</td>\n",
       "      <td>vila</td>\n",
       "      <td>parc. št. 317/3 (s t.i. » Vilo  Vogler«) ter ...</td>\n",
       "      <td>vložilo veliko denarja v obnovo vile, ki je p...</td>\n",
       "    </tr>\n",
       "    <tr>\n",
       "      <th>561</th>\n",
       "      <td>1</td>\n",
       "      <td>vila</td>\n",
       "      <td>Ridi a... ratis), Trnovlje pri  vili : v Štan...</td>\n",
       "      <td>tokrat je le naredil izjemo. Spal je v znamen...</td>\n",
       "    </tr>\n",
       "    <tr>\n",
       "      <th>562</th>\n",
       "      <td>1</td>\n",
       "      <td>vila</td>\n",
       "      <td>Bližnji stanovalci trdijo, da namerava kitajs...</td>\n",
       "      <td>bila narejena v čast španskemu slikarju Salva...</td>\n",
       "    </tr>\n",
       "    <tr>\n",
       "      <th>563</th>\n",
       "      <td>0</td>\n",
       "      <td>vila</td>\n",
       "      <td>Notarjeva  vila  je v register kulturne dediš...</td>\n",
       "      <td>rdečkasto lasuljo z rožički in v roke prijele...</td>\n",
       "    </tr>\n",
       "  </tbody>\n",
       "</table>\n",
       "<p>564 rows × 4 columns</p>\n",
       "</div>"
      ],
      "text/plain": [
       "     class  word                                          sentence1  \\\n",
       "0        0   kap   prostituiranjem občasno je počel tudi to , me...   \n",
       "1        1   kap   ko pa zdajle ta video vidim me je pa skor  ka...   \n",
       "2        0   kap   odgovor, ne sme vas presenetiti in vas zadeti...   \n",
       "3        0   kap      piva, ki naj bi ga spil Pahor, skoraj  kap .    \n",
       "4        0   kap   smučarske čevlje, hlače, bundo, rokavice in v...   \n",
       "..     ...   ...                                                ...   \n",
       "559      1  vila    Namesto penziona Oliva pride  Vila  Čeranič***    \n",
       "560      1  vila   parc. št. 317/3 (s t.i. » Vilo  Vogler«) ter ...   \n",
       "561      1  vila   Ridi a... ratis), Trnovlje pri  vili : v Štan...   \n",
       "562      1  vila   Bližnji stanovalci trdijo, da namerava kitajs...   \n",
       "563      0  vila   Notarjeva  vila  je v register kulturne dediš...   \n",
       "\n",
       "                                             sentence2  \n",
       "0                                   Kapa  gre v Pariz   \n",
       "1     čingola da te rasvetlim bila je možganska  ka...  \n",
       "2     je avgusta 2009 med potapljanjem na hrvaškem ...  \n",
       "3     Od jeze si je strojevodja snel z glave železn...  \n",
       "4           IMK ishemična možganska  kap  ali infarkt   \n",
       "..                                                 ...  \n",
       "559   ...] obširen borov gozd, posejan z  vilami , ...  \n",
       "560   vložilo veliko denarja v obnovo vile, ki je p...  \n",
       "561   tokrat je le naredil izjemo. Spal je v znamen...  \n",
       "562   bila narejena v čast španskemu slikarju Salva...  \n",
       "563   rdečkasto lasuljo z rožički in v roke prijele...  \n",
       "\n",
       "[564 rows x 4 columns]"
      ]
     },
     "execution_count": 2,
     "metadata": {},
     "output_type": "execute_result"
    }
   ],
   "source": [
    "df = pd.read_csv(\"all_manually_annotated.csv\", index_col=0)\n",
    "df"
   ]
  },
  {
   "cell_type": "code",
   "execution_count": 3,
   "metadata": {},
   "outputs": [
    {
     "name": "stderr",
     "output_type": "stream",
     "text": [
      "Warning : `load_model` does not return WordVectorModel or SupervisedModel any more, but a `FastText` object which is very similar.\n"
     ]
    }
   ],
   "source": [
    "model = fasttext.load_model(\"embed.sl-token.ft.sg.bin\")"
   ]
  },
  {
   "cell_type": "code",
   "execution_count": 5,
   "metadata": {},
   "outputs": [
    {
     "data": {
      "text/html": [
       "<div>\n",
       "<style scoped>\n",
       "    .dataframe tbody tr th:only-of-type {\n",
       "        vertical-align: middle;\n",
       "    }\n",
       "\n",
       "    .dataframe tbody tr th {\n",
       "        vertical-align: top;\n",
       "    }\n",
       "\n",
       "    .dataframe thead th {\n",
       "        text-align: right;\n",
       "    }\n",
       "</style>\n",
       "<table border=\"1\" class=\"dataframe\">\n",
       "  <thead>\n",
       "    <tr style=\"text-align: right;\">\n",
       "      <th></th>\n",
       "      <th>class</th>\n",
       "      <th>word</th>\n",
       "      <th>sentence1</th>\n",
       "      <th>sentence2</th>\n",
       "    </tr>\n",
       "  </thead>\n",
       "  <tbody>\n",
       "    <tr>\n",
       "      <th>0</th>\n",
       "      <td>0</td>\n",
       "      <td>kap</td>\n",
       "      <td>prostituiranjem občasno je počel tudi to , me...</td>\n",
       "      <td>Kapa  gre v Pariz</td>\n",
       "    </tr>\n",
       "    <tr>\n",
       "      <th>2</th>\n",
       "      <td>0</td>\n",
       "      <td>kap</td>\n",
       "      <td>odgovor, ne sme vas presenetiti in vas zadeti...</td>\n",
       "      <td>je avgusta 2009 med potapljanjem na hrvaškem ...</td>\n",
       "    </tr>\n",
       "    <tr>\n",
       "      <th>3</th>\n",
       "      <td>0</td>\n",
       "      <td>kap</td>\n",
       "      <td>piva, ki naj bi ga spil Pahor, skoraj  kap .</td>\n",
       "      <td>Od jeze si je strojevodja snel z glave železn...</td>\n",
       "    </tr>\n",
       "    <tr>\n",
       "      <th>4</th>\n",
       "      <td>0</td>\n",
       "      <td>kap</td>\n",
       "      <td>smučarske čevlje, hlače, bundo, rokavice in v...</td>\n",
       "      <td>IMK ishemična možganska  kap  ali infarkt</td>\n",
       "    </tr>\n",
       "    <tr>\n",
       "      <th>5</th>\n",
       "      <td>0</td>\n",
       "      <td>kap</td>\n",
       "      <td>moškega nižje postave, v temno oblečenega, s ...</td>\n",
       "      <td>reakcijo na osvetlitev. Težko je oceniti, ali...</td>\n",
       "    </tr>\n",
       "    <tr>\n",
       "      <th>...</th>\n",
       "      <td>...</td>\n",
       "      <td>...</td>\n",
       "      <td>...</td>\n",
       "      <td>...</td>\n",
       "    </tr>\n",
       "    <tr>\n",
       "      <th>546</th>\n",
       "      <td>0</td>\n",
       "      <td>vila</td>\n",
       "      <td>ena najponosnejših stavb, ki še sanja o prete...</td>\n",
       "      <td>Vile  pripovedujejo o --- odgovornosti / [av...</td>\n",
       "    </tr>\n",
       "    <tr>\n",
       "      <th>552</th>\n",
       "      <td>0</td>\n",
       "      <td>vila</td>\n",
       "      <td>na odseku Kozina–Ankaran, kjer so novoodkrite...</td>\n",
       "      <td>ki je trdil, da je tudi sam že videl  vile , ...</td>\n",
       "    </tr>\n",
       "    <tr>\n",
       "      <th>554</th>\n",
       "      <td>0</td>\n",
       "      <td>vila</td>\n",
       "      <td>vendar steza pod strmo zaporo še zadnjič zavi...</td>\n",
       "      <td>starejše deklice se že rade oblečejo v prince...</td>\n",
       "    </tr>\n",
       "    <tr>\n",
       "      <th>556</th>\n",
       "      <td>0</td>\n",
       "      <td>vila</td>\n",
       "      <td>. Tisto grozno jutranje vstajanje … In so se ...</td>\n",
       "      <td>je dobrodelno društvo, ki so ga ustanovile št...</td>\n",
       "    </tr>\n",
       "    <tr>\n",
       "      <th>563</th>\n",
       "      <td>0</td>\n",
       "      <td>vila</td>\n",
       "      <td>Notarjeva  vila  je v register kulturne dediš...</td>\n",
       "      <td>rdečkasto lasuljo z rožički in v roke prijele...</td>\n",
       "    </tr>\n",
       "  </tbody>\n",
       "</table>\n",
       "<p>329 rows × 4 columns</p>\n",
       "</div>"
      ],
      "text/plain": [
       "     class  word                                          sentence1  \\\n",
       "0        0   kap   prostituiranjem občasno je počel tudi to , me...   \n",
       "2        0   kap   odgovor, ne sme vas presenetiti in vas zadeti...   \n",
       "3        0   kap      piva, ki naj bi ga spil Pahor, skoraj  kap .    \n",
       "4        0   kap   smučarske čevlje, hlače, bundo, rokavice in v...   \n",
       "5        0   kap   moškega nižje postave, v temno oblečenega, s ...   \n",
       "..     ...   ...                                                ...   \n",
       "546      0  vila   ena najponosnejših stavb, ki še sanja o prete...   \n",
       "552      0  vila   na odseku Kozina–Ankaran, kjer so novoodkrite...   \n",
       "554      0  vila   vendar steza pod strmo zaporo še zadnjič zavi...   \n",
       "556      0  vila   . Tisto grozno jutranje vstajanje … In so se ...   \n",
       "563      0  vila   Notarjeva  vila  je v register kulturne dediš...   \n",
       "\n",
       "                                             sentence2  \n",
       "0                                   Kapa  gre v Pariz   \n",
       "2     je avgusta 2009 med potapljanjem na hrvaškem ...  \n",
       "3     Od jeze si je strojevodja snel z glave železn...  \n",
       "4           IMK ishemična možganska  kap  ali infarkt   \n",
       "5     reakcijo na osvetlitev. Težko je oceniti, ali...  \n",
       "..                                                 ...  \n",
       "546    Vile  pripovedujejo o --- odgovornosti / [av...  \n",
       "552   ki je trdil, da je tudi sam že videl  vile , ...  \n",
       "554   starejše deklice se že rade oblečejo v prince...  \n",
       "556   je dobrodelno društvo, ki so ga ustanovile št...  \n",
       "563   rdečkasto lasuljo z rožički in v roke prijele...  \n",
       "\n",
       "[329 rows x 4 columns]"
      ]
     },
     "execution_count": 5,
     "metadata": {},
     "output_type": "execute_result"
    }
   ],
   "source": [
    "df_pos = df.loc[df[\"class\"] == 1]\n",
    "df_neg = df.loc[df[\"class\"] == 0]\n",
    "df_neg"
   ]
  },
  {
   "cell_type": "code",
   "execution_count": 6,
   "metadata": {},
   "outputs": [],
   "source": [
    "neg_diff = []\n",
    "pos_diff = []\n",
    "\n",
    "for i in df_neg.index:\n",
    "    one = model.get_sentence_vector(df_neg.sentence1[i])\n",
    "    two = model.get_sentence_vector(df_neg.sentence2[i])\n",
    "    res = spatial.distance.cosine(one, two)\n",
    "    neg_diff.append(res)\n",
    "\n",
    "for i in df_pos.index:\n",
    "    one = model.get_sentence_vector(df_pos.sentence1[i])\n",
    "    two = model.get_sentence_vector(df_pos.sentence2[i])\n",
    "    res = spatial.distance.cosine(one, two)\n",
    "    pos_diff.append(res)\n"
   ]
  },
  {
   "cell_type": "code",
   "execution_count": 9,
   "metadata": {},
   "outputs": [
    {
     "name": "stdout",
     "output_type": "stream",
     "text": [
      "0.21953402675212697\n",
      "0.8270665109157562\n",
      "0.06669443845748901\n",
      "\n",
      "0.2666572135847308\n",
      "0.9993428747984581\n",
      "0.06771844625473022\n"
     ]
    }
   ],
   "source": [
    "y = np.asarray(neg_diff, dtype=np.float32)\n",
    "print(np.mean(pos_diff, axis=0))\n",
    "print(max(pos_diff))\n",
    "print(min(pos_diff))\n",
    "print()\n",
    "print(np.mean(neg_diff, axis=0))\n",
    "print(max(neg_diff))\n",
    "print(min(neg_diff))"
   ]
  },
  {
   "cell_type": "code",
   "execution_count": 10,
   "metadata": {},
   "outputs": [
    {
     "data": {
      "image/png": "[encoded data removed]",
      "text/plain": [
       "<Figure size 432x288 with 1 Axes>"
      ]
     },
     "metadata": {
      "needs_background": "light"
     },
     "output_type": "display_data"
    }
   ],
   "source": [
    "plt.boxplot([neg_diff, pos_diff])\n",
    "plt.errorbar(2, np.mean(y, axis=0), yerr=np.std(y, axis=0))\n",
    "plt.show()"
   ]
  },
  {
   "cell_type": "code",
   "execution_count": 4,
   "metadata": {},
   "outputs": [],
   "source": [
    "cls = []\n",
    "\n",
    "for i in df.index:\n",
    "    one = model.get_sentence_vector(df.sentence1[i])\n",
    "    two = model.get_sentence_vector(df.sentence2[i])\n",
    "    res = spatial.distance.cosine(one, two)\n",
    "    if res < 0.24:\n",
    "        cls.append(1)\n",
    "    else:\n",
    "        cls.append(0)"
   ]
  },
  {
   "cell_type": "code",
   "execution_count": 6,
   "metadata": {},
   "outputs": [
    {
     "name": "stdout",
     "output_type": "stream",
     "text": [
      "(0.5632692307692309, 0.5595744680851064, 0.5318852151190863, None)\n"
     ]
    },
    {
     "data": {
      "image/png": "[encoded data removed]",
      "text/plain": [
       "<Figure size 432x288 with 2 Axes>"
      ]
     },
     "metadata": {
      "needs_background": "light"
     },
     "output_type": "display_data"
    }
   ],
   "source": [
    "from sklearn import metrics\n",
    "import matplotlib.pyplot as plt\n",
    "\n",
    "base = df[\"class\"]\n",
    "classes = [0,1]\n",
    "c = metrics.confusion_matrix(base, cls, labels=classes)\n",
    "disp = metrics.ConfusionMatrixDisplay(c, display_labels=classes)\n",
    "disp.plot()\n",
    "print(metrics.precision_recall_fscore_support(base, cls, average=\"macro\"))\n",
    "plt.savefig(\"cm_ft.jpg\")"
   ]
  }
 ],
 "metadata": {
  "interpreter": {
   "hash": "97cc609b13305c559618ec78a438abc56230b9381f827f22d070313b9a1f3777"
  },
  "kernelspec": {
   "display_name": "Python 3.10.4 64-bit",
   "language": "python",
   "name": "python3"
  },
  "language_info": {
   "codemirror_mode": {
    "name": "ipython",
    "version": 3
   },
   "file_extension": ".py",
   "mimetype": "text/x-python",
   "name": "python",
   "nbconvert_exporter": "python",
   "pygments_lexer": "ipython3",
   "version": "3.10.4"
  },
  "orig_nbformat": 4
 },
 "nbformat": 4,
 "nbformat_minor": 2
}

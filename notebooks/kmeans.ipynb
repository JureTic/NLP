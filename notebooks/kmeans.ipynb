{
 "cells": [
  {
   "cell_type": "code",
   "execution_count": 1,
   "metadata": {},
   "outputs": [],
   "source": [
    "import pandas as pd"
   ]
  },
  {
   "cell_type": "code",
   "execution_count": 94,
   "metadata": {},
   "outputs": [
    {
     "data": {
      "text/html": [
       "<div>\n",
       "<style scoped>\n",
       "    .dataframe tbody tr th:only-of-type {\n",
       "        vertical-align: middle;\n",
       "    }\n",
       "\n",
       "    .dataframe tbody tr th {\n",
       "        vertical-align: top;\n",
       "    }\n",
       "\n",
       "    .dataframe thead th {\n",
       "        text-align: right;\n",
       "    }\n",
       "</style>\n",
       "<table border=\"1\" class=\"dataframe\">\n",
       "  <thead>\n",
       "    <tr style=\"text-align: right;\">\n",
       "      <th></th>\n",
       "      <th>Unnamed: 0</th>\n",
       "      <th>class</th>\n",
       "      <th>word</th>\n",
       "      <th>sentence1</th>\n",
       "      <th>sentence2</th>\n",
       "    </tr>\n",
       "  </thead>\n",
       "  <tbody>\n",
       "    <tr>\n",
       "      <th>0</th>\n",
       "      <td>0</td>\n",
       "      <td>NaN</td>\n",
       "      <td>vila</td>\n",
       "      <td>....nekaj avtobobilom luks.razreda in  vil .</td>\n",
       "      <td>poslovnež, ki je do potankosti podrobno poskr...</td>\n",
       "    </tr>\n",
       "    <tr>\n",
       "      <th>1</th>\n",
       "      <td>1</td>\n",
       "      <td>NaN</td>\n",
       "      <td>vila</td>\n",
       "      <td>... Mira sem obiskala deseti dan bivanja v  v...</td>\n",
       "      <td>Samostojne  vile</td>\n",
       "    </tr>\n",
       "    <tr>\n",
       "      <th>2</th>\n",
       "      <td>2</td>\n",
       "      <td>NaN</td>\n",
       "      <td>vila</td>\n",
       "      <td>Tu živi,« je odvrnil Lindgren in pokazal prot...</td>\n",
       "      <td>Silvio Berlusconi. Objavil je fotografije z z...</td>\n",
       "    </tr>\n",
       "    <tr>\n",
       "      <th>3</th>\n",
       "      <td>3</td>\n",
       "      <td>NaN</td>\n",
       "      <td>vila</td>\n",
       "      <td>procente in rabate, potem pa tridesetletni fr...</td>\n",
       "      <td>takoj ko je spregovoril začel s tem,da bi  vi...</td>\n",
       "    </tr>\n",
       "    <tr>\n",
       "      <th>4</th>\n",
       "      <td>4</td>\n",
       "      <td>NaN</td>\n",
       "      <td>vila</td>\n",
       "      <td>Mikec in Damjanom Snojem, za njimi pa se je  ...</td>\n",
       "      <td>na raziskovanje velikega kompleksa, ki se je ...</td>\n",
       "    </tr>\n",
       "    <tr>\n",
       "      <th>...</th>\n",
       "      <td>...</td>\n",
       "      <td>...</td>\n",
       "      <td>...</td>\n",
       "      <td>...</td>\n",
       "      <td>...</td>\n",
       "    </tr>\n",
       "    <tr>\n",
       "      <th>495</th>\n",
       "      <td>495</td>\n",
       "      <td>NaN</td>\n",
       "      <td>vila</td>\n",
       "      <td>minut vožnje od Opatije, je na ekskluzivni lo...</td>\n",
       "      <td>. Dolge kolone avtomobilov, ki so se konec te...</td>\n",
       "    </tr>\n",
       "    <tr>\n",
       "      <th>496</th>\n",
       "      <td>496</td>\n",
       "      <td>NaN</td>\n",
       "      <td>vila</td>\n",
       "      <td>2. Je pravljično lepa  vila  v resnici Darkov...</td>\n",
       "      <td>IZ KATEREGA JE MOLČE SNEŽILO, SE JE RAZPENJAL...</td>\n",
       "    </tr>\n",
       "    <tr>\n",
       "      <th>497</th>\n",
       "      <td>497</td>\n",
       "      <td>NaN</td>\n",
       "      <td>vila</td>\n",
       "      <td>, za najem stavbe NPU, Hypo banko, gradnjo  v...</td>\n",
       "      <td>dokaj na hitro in brez možnosti podaljšanja p...</td>\n",
       "    </tr>\n",
       "    <tr>\n",
       "      <th>498</th>\n",
       "      <td>498</td>\n",
       "      <td>NaN</td>\n",
       "      <td>vila</td>\n",
       "      <td>Vila  pod hollywoodskim znakom</td>\n",
       "      <td>gospa Delopst pa da je prišla pred nje tudi z...</td>\n",
       "    </tr>\n",
       "    <tr>\n",
       "      <th>499</th>\n",
       "      <td>499</td>\n",
       "      <td>NaN</td>\n",
       "      <td>vila</td>\n",
       "      <td>, ki sta nastopala kot zlagana posušena nuna,...</td>\n",
       "      <td>Ljubljana - Rdeča nit sobotne seje skupščine ...</td>\n",
       "    </tr>\n",
       "  </tbody>\n",
       "</table>\n",
       "<p>500 rows × 5 columns</p>\n",
       "</div>"
      ],
      "text/plain": [
       "     Unnamed: 0  class  word  \\\n",
       "0             0    NaN  vila   \n",
       "1             1    NaN  vila   \n",
       "2             2    NaN  vila   \n",
       "3             3    NaN  vila   \n",
       "4             4    NaN  vila   \n",
       "..          ...    ...   ...   \n",
       "495         495    NaN  vila   \n",
       "496         496    NaN  vila   \n",
       "497         497    NaN  vila   \n",
       "498         498    NaN  vila   \n",
       "499         499    NaN  vila   \n",
       "\n",
       "                                             sentence1  \\\n",
       "0        ....nekaj avtobobilom luks.razreda in  vil .    \n",
       "1     ... Mira sem obiskala deseti dan bivanja v  v...   \n",
       "2     Tu živi,« je odvrnil Lindgren in pokazal prot...   \n",
       "3     procente in rabate, potem pa tridesetletni fr...   \n",
       "4     Mikec in Damjanom Snojem, za njimi pa se je  ...   \n",
       "..                                                 ...   \n",
       "495   minut vožnje od Opatije, je na ekskluzivni lo...   \n",
       "496   2. Je pravljično lepa  vila  v resnici Darkov...   \n",
       "497   , za najem stavbe NPU, Hypo banko, gradnjo  v...   \n",
       "498                    Vila  pod hollywoodskim znakom    \n",
       "499   , ki sta nastopala kot zlagana posušena nuna,...   \n",
       "\n",
       "                                             sentence2  \n",
       "0     poslovnež, ki je do potankosti podrobno poskr...  \n",
       "1                                   Samostojne  vile    \n",
       "2     Silvio Berlusconi. Objavil je fotografije z z...  \n",
       "3     takoj ko je spregovoril začel s tem,da bi  vi...  \n",
       "4     na raziskovanje velikega kompleksa, ki se je ...  \n",
       "..                                                 ...  \n",
       "495   . Dolge kolone avtomobilov, ki so se konec te...  \n",
       "496   IZ KATEREGA JE MOLČE SNEŽILO, SE JE RAZPENJAL...  \n",
       "497   dokaj na hitro in brez možnosti podaljšanja p...  \n",
       "498   gospa Delopst pa da je prišla pred nje tudi z...  \n",
       "499   Ljubljana - Rdeča nit sobotne seje skupščine ...  \n",
       "\n",
       "[500 rows x 5 columns]"
      ]
     },
     "execution_count": 94,
     "metadata": {},
     "output_type": "execute_result"
    }
   ],
   "source": [
    "now = \"vila\"\n",
    "df = pd.read_csv(\"besede/stavki-{}.csv\".format(now))\n",
    "df"
   ]
  },
  {
   "cell_type": "code",
   "execution_count": 37,
   "metadata": {},
   "outputs": [
    {
     "name": "stdout",
     "output_type": "stream",
     "text": [
      "ali\n"
     ]
    }
   ],
   "source": [
    "import simplemma\n",
    "from nltk import word_tokenize\n",
    "import string\n",
    "\n",
    "langdata = simplemma.load_data('sl')\n",
    "\n",
    "stopwords = []\n",
    "\n",
    "with open(\"SloStopWords.txt\", \"r\", encoding=\"utf-8\") as st:\n",
    "    lis = []\n",
    "    for l in st.readlines():\n",
    "        lis.append(l.strip())        \n",
    "    stopwords = lis\n",
    "print(stopwords[0])\n",
    "\n",
    "\n",
    "def remove_punc(text):\n",
    "    return \"\".join([char for char in text if char not in string.punctuation])\n",
    "\n",
    "def remove_stops(text: list):\n",
    "    for ind,i in enumerate(text):\n",
    "        if i in stopwords:\n",
    "            text.pop(ind)\n",
    "    return text\n",
    "\n",
    "def remove_nums(text):\n",
    "    return ''.join([i for i in text if not i.isdigit()])\n",
    "\n",
    "# df['sentence1_p'] = df['sentence1'].apply(lambda x: simplemma.lemmatize(x.lower(), langdata))"
   ]
  },
  {
   "cell_type": "code",
   "execution_count": 95,
   "metadata": {},
   "outputs": [],
   "source": [
    "df['sentence1_p'] = df['sentence1'].apply(lambda x: x.lower())\n",
    "df['sentence1_p'] = df['sentence1_p'].apply(lambda x: \" \".join(remove_nums(remove_punc(x)).split()))\n",
    "df['sentence1_p'] = df['sentence1_p'].apply(lambda x: x.split(\" \"))\n",
    "df['sentence1_p'] = df['sentence1_p'].apply(lambda x: remove_stops(x))\n",
    "df['sentence1_p'] = df['sentence1_p'].apply(lambda x: [simplemma.lemmatize(t, langdata) for t in x])\n",
    "\n",
    "df['sentence2_p'] = df['sentence2'].apply(lambda x: x.lower())\n",
    "df['sentence2_p'] = df['sentence2_p'].apply(lambda x: \" \".join(remove_nums(remove_punc(x)).split()))\n",
    "df['sentence2_p'] = df['sentence2_p'].apply(lambda x: x.split(\" \"))\n",
    "df['sentence2_p'] = df['sentence2_p'].apply(lambda x: remove_stops(x))\n",
    "df['sentence2_p'] = df['sentence2_p'].apply(lambda x: [simplemma.lemmatize(t, langdata) for t in x])"
   ]
  },
  {
   "cell_type": "code",
   "execution_count": 96,
   "metadata": {},
   "outputs": [
    {
     "name": "stdout",
     "output_type": "stream",
     "text": [
      "TF-IDF matrix shape: (1000, 5000)\n"
     ]
    }
   ],
   "source": [
    "df['sentence1_p_1'] = df['sentence1_p'].apply(lambda x: \" \".join(x))\n",
    "df['sentence2_p_1'] = df['sentence2_p'].apply(lambda x: \" \".join(x))\n",
    "\n",
    "\n",
    "from sklearn.feature_extraction.text import TfidfVectorizer\n",
    "\n",
    "# Define vectorizer parameters\n",
    "tfidf_vectorizer = TfidfVectorizer(\n",
    "                        max_features=5000,\n",
    "                        use_idf=True, \n",
    "                        ngram_range=(1,3))\n",
    "\n",
    "# Fit the vectorizer to synopses texts\n",
    "tfidf_matrix = tfidf_vectorizer.fit_transform(df['sentence1_p_1'].tolist() + df['sentence2_p_1'].tolist()) \n",
    "\n",
    "print(\"TF-IDF matrix shape: {}\".format(tfidf_matrix.shape))\n",
    "\n"
   ]
  },
  {
   "cell_type": "code",
   "execution_count": 97,
   "metadata": {},
   "outputs": [
    {
     "name": "stderr",
     "output_type": "stream",
     "text": [
      "C:\\Users\\Nejc\\AppData\\Local\\Programs\\Python\\Python39\\lib\\site-packages\\sklearn\\utils\\deprecation.py:87: FutureWarning: Function get_feature_names is deprecated; get_feature_names is deprecated in 1.0 and will be removed in 1.2. Please use get_feature_names_out instead.\n",
      "  warnings.warn(msg, category=FutureWarning)\n"
     ]
    }
   ],
   "source": [
    "terms = tfidf_vectorizer.get_feature_names()\n",
    "\n",
    "from sklearn.metrics.pairwise import cosine_similarity\n",
    "dist = 1 - cosine_similarity(tfidf_matrix)\n",
    "\n",
    "from sklearn.cluster import KMeans\n",
    "\n",
    "num_clusters = 2\n",
    "km = KMeans(n_clusters=num_clusters)\n",
    "\n",
    "# Perform clustering\n",
    "km.fit(tfidf_matrix)\n",
    "\n",
    "clusters = km.labels_.tolist()\n",
    "#print(\"Clusters: {}\".format(clusters))"
   ]
  },
  {
   "cell_type": "code",
   "execution_count": 98,
   "metadata": {},
   "outputs": [
    {
     "name": "stderr",
     "output_type": "stream",
     "text": [
      "C:\\Users\\Nejc\\AppData\\Local\\Programs\\Python\\Python39\\lib\\site-packages\\pandas\\core\\indexing.py:1732: SettingWithCopyWarning: \n",
      "A value is trying to be set on a copy of a slice from a DataFrame\n",
      "\n",
      "See the caveats in the documentation: https://pandas.pydata.org/pandas-docs/stable/user_guide/indexing.html#returning-a-view-versus-a-copy\n",
      "  self._setitem_single_block(indexer, value, name)\n"
     ]
    }
   ],
   "source": [
    "for i in range(500):\n",
    "    if clusters[i] == clusters[i+500]:\n",
    "        df[\"class\"].iloc[i] = 1\n",
    "    else:\n",
    "        df[\"class\"].iloc[i] = 0"
   ]
  },
  {
   "cell_type": "code",
   "execution_count": 99,
   "metadata": {},
   "outputs": [],
   "source": [
    "df_fin = df.drop([\"sentence1_p_1\", \"sentence2_p_1\", \"Unnamed: 0\"], axis=1)\n",
    "df_fin = df_fin.rename({\"sentence1_p\": \"sentence1_processed\", \"sentence2_p\": \"sentence2_processed\"}, axis=1)\n",
    "df_fin.to_csv(\"proc/{}.csv\".format(now))"
   ]
  }
 ],
 "metadata": {
  "interpreter": {
   "hash": "518c72ab955009b11aa82185138ffd9683c9951de2cf2b8533adb9d7091f0895"
  },
  "kernelspec": {
   "display_name": "Python 3.9.5 64-bit",
   "language": "python",
   "name": "python3"
  },
  "language_info": {
   "codemirror_mode": {
    "name": "ipython",
    "version": 3
   },
   "file_extension": ".py",
   "mimetype": "text/x-python",
   "name": "python",
   "nbconvert_exporter": "python",
   "pygments_lexer": "ipython3",
   "version": "3.9.5"
  },
  "orig_nbformat": 4
 },
 "nbformat": 4,
 "nbformat_minor": 2
}
